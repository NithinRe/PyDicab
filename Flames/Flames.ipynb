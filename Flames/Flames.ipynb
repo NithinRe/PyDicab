{
 "cells": [
  {
   "cell_type": "code",
   "execution_count": null,
   "metadata": {},
   "outputs": [],
   "source": [
    "fn = (input('Enter a name : ')).lower()\n",
    "sn = (input('Enter a name : ')).lower()\n",
    "for i in fn:\n",
    "    for j in sn:\n",
    "        if i==j:\n",
    "            fn = fn.replace(i,'',1)\n",
    "            sn = sn.replace(j,'',1)\n",
    "            break\n",
    "length = len(fn+sn)\n",
    "print(length)\n",
    "if length>0:\n",
    "    relations = ['Friends','Lovers','Affection','Marraige','Enemy','Sisters']\n",
    "    while len(relations)>1:\n",
    "        r = length%len(relations)\n",
    "        s = r-1\n",
    "        if s>=0:\n",
    "            left = relations[:s]\n",
    "            right = relations[s+1:]\n",
    "            relations = right+left\n",
    "        else:\n",
    "            relations = relations[:len(relations)-1]\n",
    "    print('The relation between {} and {} is {}'.format(fn,sn,relations[0]))\n",
    "            \n",
    "        "
   ]
  }
 ],
 "metadata": {
  "kernelspec": {
   "display_name": "Python 3",
   "language": "python",
   "name": "python3"
  },
  "language_info": {
   "codemirror_mode": {
    "name": "ipython",
    "version": 3
   },
   "file_extension": ".py",
   "mimetype": "text/x-python",
   "name": "python",
   "nbconvert_exporter": "python",
   "pygments_lexer": "ipython3",
   "version": "3.7.4"
  }
 },
 "nbformat": 4,
 "nbformat_minor": 4
}
