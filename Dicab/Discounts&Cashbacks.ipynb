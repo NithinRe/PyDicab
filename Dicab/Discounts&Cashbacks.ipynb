{
 "cells": [
  {
   "cell_type": "code",
   "execution_count": 67,
   "metadata": {},
   "outputs": [],
   "source": [
    "def add():\n",
    "    x = int(input('Enter a : '))\n",
    "    print('\\t')\n",
    "    a = float(input('How much you want to get extra : '))\n",
    "    print('\\t')\n",
    "    b = x*a/100+x\n",
    "    print('The total amount after {}% extra is {}'.format(a,b))\n",
    "    print('\\n')\n",
    "def disc():\n",
    "    y = int(input('Enter a number : '))\n",
    "    print('\\t')\n",
    "    c = float(input('How much dicount you want get : '))\n",
    "    print('\\t')\n",
    "    d = y*c/100\n",
    "    e = y-d\n",
    "    print('The total amount after {}% discount is {}'.format(c,e))"
   ]
  },
  {
   "cell_type": "code",
   "execution_count": 68,
   "metadata": {},
   "outputs": [
    {
     "name": "stdin",
     "output_type": "stream",
     "text": [
      "Enter a :  100\n"
     ]
    },
    {
     "name": "stdout",
     "output_type": "stream",
     "text": [
      "\t\n"
     ]
    },
    {
     "name": "stdin",
     "output_type": "stream",
     "text": [
      "How much you want to get extra :  50\n"
     ]
    },
    {
     "name": "stdout",
     "output_type": "stream",
     "text": [
      "\t\n",
      "The total amount after 50.0% extra is 150.0\n",
      "\n",
      "\n"
     ]
    },
    {
     "name": "stdin",
     "output_type": "stream",
     "text": [
      "Enter a number :  120\n"
     ]
    },
    {
     "name": "stdout",
     "output_type": "stream",
     "text": [
      "\t\n"
     ]
    },
    {
     "name": "stdin",
     "output_type": "stream",
     "text": [
      "How much dicount you want get :  23\n"
     ]
    },
    {
     "name": "stdout",
     "output_type": "stream",
     "text": [
      "\t\n",
      "The total amount after 23.0% discount is 92.4\n"
     ]
    }
   ],
   "source": [
    "add()\n",
    "disc()"
   ]
  },
  {
   "cell_type": "code",
   "execution_count": 66,
   "metadata": {},
   "outputs": [
    {
     "name": "stdin",
     "output_type": "stream",
     "text": [
      "cashback can be availed upto :  1500\n"
     ]
    },
    {
     "name": "stdout",
     "output_type": "stream",
     "text": [
      "\t\n"
     ]
    },
    {
     "name": "stdin",
     "output_type": "stream",
     "text": [
      "What is minimum amount to avail cashback :  5000\n"
     ]
    },
    {
     "name": "stdout",
     "output_type": "stream",
     "text": [
      "\t\n"
     ]
    },
    {
     "name": "stdin",
     "output_type": "stream",
     "text": [
      "what is cost of your item  :  10000\n"
     ]
    },
    {
     "name": "stdout",
     "output_type": "stream",
     "text": [
      "\t\n"
     ]
    },
    {
     "name": "stdin",
     "output_type": "stream",
     "text": [
      "Enter a cashback percentage :  25\n"
     ]
    },
    {
     "name": "stdout",
     "output_type": "stream",
     "text": [
      "\t\n",
      "The cashback you get is 1500\n"
     ]
    }
   ],
   "source": [
    "cashback = int(input('cashback can be availed upto : '))\n",
    "print('\\t')\n",
    "limit = int(input('What is minimum amount to avail cashback : '))\n",
    "print('\\t')\n",
    "x = int(input('what is cost of your item  : '))\n",
    "print('\\t')\n",
    "if x > limit:\n",
    "    y = float(input('Enter a cashback percentage : '))\n",
    "    z = x*y/100\n",
    "    print('\\t')\n",
    "    if z > cashback:\n",
    "        print('The cashback you get is {}'.format(cashback))\n",
    "    else:\n",
    "        print('The cashback you get is {}'.format(z))\n",
    "else:\n",
    "    print(\"You won't get any cashback\")\n"
   ]
  }
 ],
 "metadata": {
  "kernelspec": {
   "display_name": "Python 3",
   "language": "python",
   "name": "python3"
  },
  "language_info": {
   "codemirror_mode": {
    "name": "ipython",
    "version": 3
   },
   "file_extension": ".py",
   "mimetype": "text/x-python",
   "name": "python",
   "nbconvert_exporter": "python",
   "pygments_lexer": "ipython3",
   "version": "3.7.4"
  }
 },
 "nbformat": 4,
 "nbformat_minor": 4
}
